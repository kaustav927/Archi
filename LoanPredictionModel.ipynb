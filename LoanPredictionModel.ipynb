{
  "nbformat": 4,
  "nbformat_minor": 0,
  "metadata": {
    "colab": {
      "name": "LoanPredictionModel.ipynb",
      "provenance": [],
      "toc_visible": true,
      "include_colab_link": true
    },
    "kernelspec": {
      "name": "python3",
      "display_name": "Python 3"
    }
  },
  "cells": [
    {
      "cell_type": "markdown",
      "metadata": {
        "id": "view-in-github",
        "colab_type": "text"
      },
      "source": [
        "<a href=\"https://colab.research.google.com/github/kaustav927/Archi/blob/master/LoanPredictionModel.ipynb\" target=\"_parent\"><img src=\"https://colab.research.google.com/assets/colab-badge.svg\" alt=\"Open In Colab\"/></a>"
      ]
    },
    {
      "cell_type": "markdown",
      "metadata": {
        "id": "iza_UtlR5SrL"
      },
      "source": [
        "## Importing the libraries into our model"
      ]
    },
    {
      "cell_type": "code",
      "metadata": {
        "colab": {
          "base_uri": "https://localhost:8080/"
        },
        "id": "HFD1bTY7fyaX",
        "outputId": "ef71ef33-99e6-4c02-f5d2-ea1f7e665096"
      },
      "source": [
        "!git init\n"
      ],
      "execution_count": null,
      "outputs": [
        {
          "output_type": "stream",
          "text": [
            "Initialized empty Git repository in /content/.git/\n"
          ],
          "name": "stdout"
        }
      ]
    },
    {
      "cell_type": "code",
      "metadata": {
        "id": "CEEUrLYLgH-H"
      },
      "source": [
        "!git remote add loaned https://github.com/kaustav927/LoanPredictionModel.git"
      ],
      "execution_count": null,
      "outputs": []
    },
    {
      "cell_type": "code",
      "metadata": {
        "id": "HTd34khtHwAe"
      },
      "source": [
        "#Data Handling and Manipulation\n",
        "import pandas as pd\n",
        "import numpy as np\n",
        "pd.set_option('display.max_columns', None)  \n",
        "\n",
        "#Statistical Analysis\n",
        "from scipy import stats\n",
        "\n",
        "#Plotting and Visualization\n",
        "import matplotlib.pyplot as plt\n",
        "import matplotlib.pylab as plt\n",
        "plt.rcParams['figure.dpi'] = 120\n",
        "\n",
        "\n",
        "!pip install googlemaps\n",
        "!pip install ortools\n",
        "!pip install gmaps\n",
        "!jupyter nbextension enable --py --sys-prefix widgetsnbextension\n",
        "\n",
        "\n",
        "#Machine Learning\n",
        "from sklearn.preprocessing import MinMaxScaler\n",
        "from keras.models import Sequential\n",
        "from keras.layers import Dense, Dropout\n",
        "from sklearn.model_selection import cross_val_score, train_test_split\n",
        "from sklearn.model_selection import KFold\n",
        "from sklearn.ensemble import RandomForestClassifier"
      ],
      "execution_count": null,
      "outputs": []
    },
    {
      "cell_type": "markdown",
      "metadata": {
        "id": "zuR2ZdNLI9hN"
      },
      "source": [
        "Loading Data"
      ]
    },
    {
      "cell_type": "code",
      "metadata": {
        "id": "47X0QFBBQloI"
      },
      "source": [
        "customerLoans = pd.read_csv('/content/CustomerLoans.csv',sep=',')\n",
        "customerLoans.head()"
      ],
      "execution_count": null,
      "outputs": []
    },
    {
      "cell_type": "code",
      "metadata": {
        "id": "QAACNBSARgTg"
      },
      "source": [
        "customerDemographics = pd.read_csv('/content/Demographics.csv',sep=',')\n",
        "customerDemographics.head()"
      ],
      "execution_count": null,
      "outputs": []
    },
    {
      "cell_type": "markdown",
      "metadata": {
        "id": "v-n2nsBDSCXg"
      },
      "source": [
        "Examine Missing Data"
      ]
    },
    {
      "cell_type": "code",
      "metadata": {
        "colab": {
          "base_uri": "https://localhost:8080/"
        },
        "id": "dnvMyk8ASF1I",
        "outputId": "71a980fe-88fb-449e-ef44-07e4fbf47db2"
      },
      "source": [
        "customerLoans.isna().sum()\n",
        "customerDemographics.isna().sum()"
      ],
      "execution_count": null,
      "outputs": [
        {
          "output_type": "execute_result",
          "data": {
            "text/plain": [
              "custid                   0\n",
              "Name                     0\n",
              "Job                      0\n",
              "Age                      0\n",
              "Lat                      0\n",
              "Long                     0\n",
              "Income                   0\n",
              "CreditScore              0\n",
              "HouseholdSize            0\n",
              "ZipCode                  0\n",
              "MajorCity                0\n",
              "State                    0\n",
              "MedianHomeValue          0\n",
              "MedianHouseholdIncome    0\n",
              "Debt                     0\n",
              "dtype: int64"
            ]
          },
          "metadata": {
            "tags": []
          },
          "execution_count": 17
        }
      ]
    },
    {
      "cell_type": "markdown",
      "metadata": {
        "id": "77a-zQuzUZzx"
      },
      "source": [
        "Examine Outliers"
      ]
    },
    {
      "cell_type": "code",
      "metadata": {
        "id": "YE-FclSMUY2r"
      },
      "source": [
        "num_cols_loans = ['Income','CreditScore','Debt','LoanTerm','InterestRate','CreditIncidents','HomeValue','LoanAmount']\n",
        "customerLoans[(np.abs(stats.zscore(customerLoans[num_cols_loans])) > 3).all(axis=1)]"
      ],
      "execution_count": null,
      "outputs": []
    },
    {
      "cell_type": "code",
      "metadata": {
        "id": "Ynd5eXcfUlhr"
      },
      "source": [
        "num_cols_customer = ['Age','Income','CreditScore','HouseholdSize','MedianHomeValue','Debt']\n",
        "customerDemographics[(np.abs(stats.zscore(customerDemographics[num_cols_customer])) > 3).all(axis=1)]"
      ],
      "execution_count": null,
      "outputs": []
    },
    {
      "cell_type": "markdown",
      "metadata": {
        "id": "Ay11BBgWUwS_"
      },
      "source": [
        "Descriptive Statistics"
      ]
    },
    {
      "cell_type": "code",
      "metadata": {
        "colab": {
          "base_uri": "https://localhost:8080/",
          "height": 297
        },
        "id": "KcSTwlgWUu1u",
        "outputId": "01f1a666-afcc-449f-ad0c-46dc0f69232e"
      },
      "source": [
        "customerLoans[num_cols_loans].describe()\n",
        "customerDemographics[num_cols_customer].describe()"
      ],
      "execution_count": null,
      "outputs": [
        {
          "output_type": "execute_result",
          "data": {
            "text/html": [
              "<div>\n",
              "<style scoped>\n",
              "    .dataframe tbody tr th:only-of-type {\n",
              "        vertical-align: middle;\n",
              "    }\n",
              "\n",
              "    .dataframe tbody tr th {\n",
              "        vertical-align: top;\n",
              "    }\n",
              "\n",
              "    .dataframe thead th {\n",
              "        text-align: right;\n",
              "    }\n",
              "</style>\n",
              "<table border=\"1\" class=\"dataframe\">\n",
              "  <thead>\n",
              "    <tr style=\"text-align: right;\">\n",
              "      <th></th>\n",
              "      <th>Age</th>\n",
              "      <th>Income</th>\n",
              "      <th>CreditScore</th>\n",
              "      <th>HouseholdSize</th>\n",
              "      <th>MedianHomeValue</th>\n",
              "      <th>Debt</th>\n",
              "    </tr>\n",
              "  </thead>\n",
              "  <tbody>\n",
              "    <tr>\n",
              "      <th>count</th>\n",
              "      <td>48427.000000</td>\n",
              "      <td>48427.000000</td>\n",
              "      <td>48427.000000</td>\n",
              "      <td>48427.000000</td>\n",
              "      <td>4.842700e+04</td>\n",
              "      <td>48427.000000</td>\n",
              "    </tr>\n",
              "    <tr>\n",
              "      <th>mean</th>\n",
              "      <td>58.968509</td>\n",
              "      <td>182892.674665</td>\n",
              "      <td>700.479505</td>\n",
              "      <td>2.935408</td>\n",
              "      <td>2.324090e+05</td>\n",
              "      <td>36802.268387</td>\n",
              "    </tr>\n",
              "    <tr>\n",
              "      <th>std</th>\n",
              "      <td>23.886030</td>\n",
              "      <td>256729.653035</td>\n",
              "      <td>64.881945</td>\n",
              "      <td>1.876389</td>\n",
              "      <td>1.566480e+05</td>\n",
              "      <td>60675.888778</td>\n",
              "    </tr>\n",
              "    <tr>\n",
              "      <th>min</th>\n",
              "      <td>18.000000</td>\n",
              "      <td>10000.000000</td>\n",
              "      <td>620.000000</td>\n",
              "      <td>1.000000</td>\n",
              "      <td>4.860000e+04</td>\n",
              "      <td>0.000000</td>\n",
              "    </tr>\n",
              "    <tr>\n",
              "      <th>25%</th>\n",
              "      <td>38.000000</td>\n",
              "      <td>29018.500000</td>\n",
              "      <td>645.000000</td>\n",
              "      <td>2.000000</td>\n",
              "      <td>1.273000e+05</td>\n",
              "      <td>12851.560000</td>\n",
              "    </tr>\n",
              "    <tr>\n",
              "      <th>50%</th>\n",
              "      <td>59.000000</td>\n",
              "      <td>48407.000000</td>\n",
              "      <td>667.000000</td>\n",
              "      <td>3.000000</td>\n",
              "      <td>1.901000e+05</td>\n",
              "      <td>22052.250000</td>\n",
              "    </tr>\n",
              "    <tr>\n",
              "      <th>75%</th>\n",
              "      <td>80.000000</td>\n",
              "      <td>231794.000000</td>\n",
              "      <td>780.000000</td>\n",
              "      <td>4.000000</td>\n",
              "      <td>2.831000e+05</td>\n",
              "      <td>34402.530000</td>\n",
              "    </tr>\n",
              "    <tr>\n",
              "      <th>max</th>\n",
              "      <td>100.000000</td>\n",
              "      <td>949942.000000</td>\n",
              "      <td>799.000000</td>\n",
              "      <td>10.000000</td>\n",
              "      <td>1.000001e+06</td>\n",
              "      <td>924099.820000</td>\n",
              "    </tr>\n",
              "  </tbody>\n",
              "</table>\n",
              "</div>"
            ],
            "text/plain": [
              "                Age         Income   CreditScore  HouseholdSize  \\\n",
              "count  48427.000000   48427.000000  48427.000000   48427.000000   \n",
              "mean      58.968509  182892.674665    700.479505       2.935408   \n",
              "std       23.886030  256729.653035     64.881945       1.876389   \n",
              "min       18.000000   10000.000000    620.000000       1.000000   \n",
              "25%       38.000000   29018.500000    645.000000       2.000000   \n",
              "50%       59.000000   48407.000000    667.000000       3.000000   \n",
              "75%       80.000000  231794.000000    780.000000       4.000000   \n",
              "max      100.000000  949942.000000    799.000000      10.000000   \n",
              "\n",
              "       MedianHomeValue           Debt  \n",
              "count     4.842700e+04   48427.000000  \n",
              "mean      2.324090e+05   36802.268387  \n",
              "std       1.566480e+05   60675.888778  \n",
              "min       4.860000e+04       0.000000  \n",
              "25%       1.273000e+05   12851.560000  \n",
              "50%       1.901000e+05   22052.250000  \n",
              "75%       2.831000e+05   34402.530000  \n",
              "max       1.000001e+06  924099.820000  "
            ]
          },
          "metadata": {
            "tags": []
          },
          "execution_count": 20
        }
      ]
    },
    {
      "cell_type": "markdown",
      "metadata": {
        "id": "Cszu24p7VJhw"
      },
      "source": [
        "Data Histograms - Customer Loans"
      ]
    },
    {
      "cell_type": "code",
      "metadata": {
        "colab": {
          "base_uri": "https://localhost:8080/",
          "height": 485
        },
        "id": "0yzwHM_lVGFF",
        "outputId": "93beda92-d75c-4db8-9261-ce98fa8c4744"
      },
      "source": [
        "customerLoans[num_cols_loans].hist()\n",
        "plt.tight_layout()"
      ],
      "execution_count": null,
      "outputs": [
        {
          "output_type": "display_data",
          "data": {
            "image/png": "[encoded data removed]",
            "text/plain": [
              "<Figure size 720x480 with 9 Axes>"
            ]
          },
          "metadata": {
            "tags": [],
            "needs_background": "light"
          }
        }
      ]
    },
    {
      "cell_type": "markdown",
      "metadata": {
        "id": "2NyOS0mBVRbo"
      },
      "source": [
        "Data Histograms - Customer Demographics"
      ]
    },
    {
      "cell_type": "code",
      "metadata": {
        "colab": {
          "base_uri": "https://localhost:8080/",
          "height": 485
        },
        "id": "BceBBf8GVQjt",
        "outputId": "e2c8ce6f-79c8-4ded-e418-6a7e4a1e9b9f"
      },
      "source": [
        "customerDemographics[num_cols_customer].hist()\n",
        "plt.tight_layout()"
      ],
      "execution_count": null,
      "outputs": [
        {
          "output_type": "display_data",
          "data": {
            "image/png": "[encoded data removed]",
            "text/plain": [
              "<Figure size 720x480 with 6 Axes>"
            ]
          },
          "metadata": {
            "tags": [],
            "needs_background": "light"
          }
        }
      ]
    },
    {
      "cell_type": "markdown",
      "metadata": {
        "id": "auuvNFr8bMYC"
      },
      "source": [
        "Joining Datasets Together"
      ]
    }
  ]
}